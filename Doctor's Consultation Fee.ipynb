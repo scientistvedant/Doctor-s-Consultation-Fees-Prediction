{
 "cells": [
  {
   "cell_type": "markdown",
   "id": "8d667622",
   "metadata": {},
   "source": [
    "# ***Predict A Doctor's Consultation Fee*** "
   ]
  },
  {
   "cell_type": "markdown",
   "id": "357021a5",
   "metadata": {},
   "source": [
    "##### IMPORTING NECESSARY LIBRARIES"
   ]
  },
  {
   "cell_type": "code",
   "execution_count": 280,
   "id": "c84a6ca4",
   "metadata": {},
   "outputs": [],
   "source": [
    "import pandas as pd\n",
    "import numpy as np\n",
    "import seaborn as sns\n",
    "import matplotlib.pyplot as plt\n",
    "import missingno as msno\n",
    "from sklearn.preprocessing import StandardScaler, OrdinalEncoder\n",
    "from sklearn.model_selection import train_test_split, GridSearchCV\n",
    "import warnings\n",
    "warnings.filterwarnings('ignore')"
   ]
  },
  {
   "cell_type": "markdown",
   "id": "314f778e",
   "metadata": {},
   "source": [
    "##### LOADING THE DATASET"
   ]
  },
  {
   "cell_type": "code",
   "execution_count": 281,
   "id": "28c1d4d3",
   "metadata": {},
   "outputs": [
    {
     "data": {
      "text/html": [
       "<div>\n",
       "<style scoped>\n",
       "    .dataframe tbody tr th:only-of-type {\n",
       "        vertical-align: middle;\n",
       "    }\n",
       "\n",
       "    .dataframe tbody tr th {\n",
       "        vertical-align: top;\n",
       "    }\n",
       "\n",
       "    .dataframe thead th {\n",
       "        text-align: right;\n",
       "    }\n",
       "</style>\n",
       "<table border=\"1\" class=\"dataframe\">\n",
       "  <thead>\n",
       "    <tr style=\"text-align: right;\">\n",
       "      <th></th>\n",
       "      <th>Qualification</th>\n",
       "      <th>Experience</th>\n",
       "      <th>Rating</th>\n",
       "      <th>Place</th>\n",
       "      <th>Profile</th>\n",
       "      <th>Miscellaneous_Info</th>\n",
       "      <th>Fees</th>\n",
       "    </tr>\n",
       "  </thead>\n",
       "  <tbody>\n",
       "    <tr>\n",
       "      <th>0</th>\n",
       "      <td>BHMS, MD - Homeopathy</td>\n",
       "      <td>24 years experience</td>\n",
       "      <td>100%</td>\n",
       "      <td>Kakkanad, Ernakulam</td>\n",
       "      <td>Homeopath</td>\n",
       "      <td>100% 16 Feedback Kakkanad, Ernakulam</td>\n",
       "      <td>100</td>\n",
       "    </tr>\n",
       "    <tr>\n",
       "      <th>1</th>\n",
       "      <td>BAMS, MD - Ayurveda Medicine</td>\n",
       "      <td>12 years experience</td>\n",
       "      <td>98%</td>\n",
       "      <td>Whitefield, Bangalore</td>\n",
       "      <td>Ayurveda</td>\n",
       "      <td>98% 76 Feedback Whitefield, Bangalore</td>\n",
       "      <td>350</td>\n",
       "    </tr>\n",
       "    <tr>\n",
       "      <th>2</th>\n",
       "      <td>MBBS, MS - Otorhinolaryngology</td>\n",
       "      <td>9 years experience</td>\n",
       "      <td>NaN</td>\n",
       "      <td>Mathikere - BEL, Bangalore</td>\n",
       "      <td>ENT Specialist</td>\n",
       "      <td>NaN</td>\n",
       "      <td>300</td>\n",
       "    </tr>\n",
       "    <tr>\n",
       "      <th>3</th>\n",
       "      <td>BSc - Zoology, BAMS</td>\n",
       "      <td>12 years experience</td>\n",
       "      <td>NaN</td>\n",
       "      <td>Bannerghatta Road, Bangalore</td>\n",
       "      <td>Ayurveda</td>\n",
       "      <td>Bannerghatta Road, Bangalore ?250 Available on...</td>\n",
       "      <td>250</td>\n",
       "    </tr>\n",
       "    <tr>\n",
       "      <th>4</th>\n",
       "      <td>BAMS</td>\n",
       "      <td>20 years experience</td>\n",
       "      <td>100%</td>\n",
       "      <td>Keelkattalai, Chennai</td>\n",
       "      <td>Ayurveda</td>\n",
       "      <td>100% 4 Feedback Keelkattalai, Chennai</td>\n",
       "      <td>250</td>\n",
       "    </tr>\n",
       "  </tbody>\n",
       "</table>\n",
       "</div>"
      ],
      "text/plain": [
       "                    Qualification           Experience Rating  \\\n",
       "0           BHMS, MD - Homeopathy  24 years experience   100%   \n",
       "1    BAMS, MD - Ayurveda Medicine  12 years experience    98%   \n",
       "2  MBBS, MS - Otorhinolaryngology   9 years experience    NaN   \n",
       "3             BSc - Zoology, BAMS  12 years experience    NaN   \n",
       "4                            BAMS  20 years experience   100%   \n",
       "\n",
       "                          Place         Profile  \\\n",
       "0           Kakkanad, Ernakulam       Homeopath   \n",
       "1         Whitefield, Bangalore        Ayurveda   \n",
       "2    Mathikere - BEL, Bangalore  ENT Specialist   \n",
       "3  Bannerghatta Road, Bangalore        Ayurveda   \n",
       "4         Keelkattalai, Chennai        Ayurveda   \n",
       "\n",
       "                                  Miscellaneous_Info  Fees  \n",
       "0               100% 16 Feedback Kakkanad, Ernakulam   100  \n",
       "1              98% 76 Feedback Whitefield, Bangalore   350  \n",
       "2                                                NaN   300  \n",
       "3  Bannerghatta Road, Bangalore ?250 Available on...   250  \n",
       "4              100% 4 Feedback Keelkattalai, Chennai   250  "
      ]
     },
     "execution_count": 281,
     "metadata": {},
     "output_type": "execute_result"
    }
   ],
   "source": [
    "df_train = pd.read_csv('Final_Train.csv')\n",
    "df_test = pd.read_csv('Final_Test.csv')\n",
    "df_train.head()"
   ]
  },
  {
   "cell_type": "code",
   "execution_count": 282,
   "id": "cb3852c1",
   "metadata": {},
   "outputs": [
    {
     "data": {
      "text/html": [
       "<div>\n",
       "<style scoped>\n",
       "    .dataframe tbody tr th:only-of-type {\n",
       "        vertical-align: middle;\n",
       "    }\n",
       "\n",
       "    .dataframe tbody tr th {\n",
       "        vertical-align: top;\n",
       "    }\n",
       "\n",
       "    .dataframe thead th {\n",
       "        text-align: right;\n",
       "    }\n",
       "</style>\n",
       "<table border=\"1\" class=\"dataframe\">\n",
       "  <thead>\n",
       "    <tr style=\"text-align: right;\">\n",
       "      <th></th>\n",
       "      <th>Qualification</th>\n",
       "      <th>Experience</th>\n",
       "      <th>Rating</th>\n",
       "      <th>Place</th>\n",
       "      <th>Profile</th>\n",
       "      <th>Miscellaneous_Info</th>\n",
       "    </tr>\n",
       "  </thead>\n",
       "  <tbody>\n",
       "    <tr>\n",
       "      <th>0</th>\n",
       "      <td>MBBS</td>\n",
       "      <td>35 years experience</td>\n",
       "      <td>NaN</td>\n",
       "      <td>Ghatkopar East, Mumbai</td>\n",
       "      <td>General Medicine</td>\n",
       "      <td>NaN</td>\n",
       "    </tr>\n",
       "    <tr>\n",
       "      <th>1</th>\n",
       "      <td>MBBS, Diploma in Otorhinolaryngology (DLO)</td>\n",
       "      <td>31 years experience</td>\n",
       "      <td>NaN</td>\n",
       "      <td>West Marredpally, Hyderabad</td>\n",
       "      <td>ENT Specialist</td>\n",
       "      <td>NaN</td>\n",
       "    </tr>\n",
       "    <tr>\n",
       "      <th>2</th>\n",
       "      <td>MBBS, DDVL</td>\n",
       "      <td>40 years experience</td>\n",
       "      <td>70%</td>\n",
       "      <td>KK Nagar, Chennai</td>\n",
       "      <td>Dermatologists</td>\n",
       "      <td>70% 4 Feedback KK Nagar, Chennai</td>\n",
       "    </tr>\n",
       "    <tr>\n",
       "      <th>3</th>\n",
       "      <td>BAMS</td>\n",
       "      <td>0 years experience</td>\n",
       "      <td>NaN</td>\n",
       "      <td>New Ashok Nagar, Delhi</td>\n",
       "      <td>Ayurveda</td>\n",
       "      <td>NaN</td>\n",
       "    </tr>\n",
       "    <tr>\n",
       "      <th>4</th>\n",
       "      <td>BDS, MDS - Conservative Dentistry &amp; Endodontics</td>\n",
       "      <td>16 years experience</td>\n",
       "      <td>100%</td>\n",
       "      <td>Kanakpura Road, Bangalore</td>\n",
       "      <td>Dentist</td>\n",
       "      <td>General Dentistry Conservative Dentistry Cosme...</td>\n",
       "    </tr>\n",
       "  </tbody>\n",
       "</table>\n",
       "</div>"
      ],
      "text/plain": [
       "                                     Qualification           Experience  \\\n",
       "0                                             MBBS  35 years experience   \n",
       "1       MBBS, Diploma in Otorhinolaryngology (DLO)  31 years experience   \n",
       "2                                       MBBS, DDVL  40 years experience   \n",
       "3                                             BAMS   0 years experience   \n",
       "4  BDS, MDS - Conservative Dentistry & Endodontics  16 years experience   \n",
       "\n",
       "  Rating                        Place           Profile  \\\n",
       "0    NaN       Ghatkopar East, Mumbai  General Medicine   \n",
       "1    NaN  West Marredpally, Hyderabad    ENT Specialist   \n",
       "2    70%            KK Nagar, Chennai    Dermatologists   \n",
       "3    NaN       New Ashok Nagar, Delhi          Ayurveda   \n",
       "4   100%    Kanakpura Road, Bangalore           Dentist   \n",
       "\n",
       "                                  Miscellaneous_Info  \n",
       "0                                                NaN  \n",
       "1                                                NaN  \n",
       "2                   70% 4 Feedback KK Nagar, Chennai  \n",
       "3                                                NaN  \n",
       "4  General Dentistry Conservative Dentistry Cosme...  "
      ]
     },
     "execution_count": 282,
     "metadata": {},
     "output_type": "execute_result"
    }
   ],
   "source": [
    "df_test.head()"
   ]
  },
  {
   "cell_type": "markdown",
   "id": "d9bcc4da",
   "metadata": {},
   "source": [
    "#### EDA "
   ]
  },
  {
   "cell_type": "code",
   "execution_count": 283,
   "id": "74f4fda5",
   "metadata": {},
   "outputs": [
    {
     "data": {
      "text/plain": [
       "(5961, 7)"
      ]
     },
     "execution_count": 283,
     "metadata": {},
     "output_type": "execute_result"
    }
   ],
   "source": [
    "# check for the shape of dataset\n",
    "df_train.shape"
   ]
  },
  {
   "cell_type": "code",
   "execution_count": 284,
   "id": "4be20d2c",
   "metadata": {},
   "outputs": [
    {
     "data": {
      "text/plain": [
       "(1987, 6)"
      ]
     },
     "execution_count": 284,
     "metadata": {},
     "output_type": "execute_result"
    }
   ],
   "source": [
    "df_test.shape"
   ]
  },
  {
   "cell_type": "markdown",
   "id": "82c1600e",
   "metadata": {},
   "source": [
    "###### ''' As per above details '''\n",
    "* Train - we have 5961 rows and 7 columns\n",
    "* Test - we have 1987 rows and 6 columns"
   ]
  },
  {
   "cell_type": "code",
   "execution_count": 285,
   "id": "94e1bb91",
   "metadata": {},
   "outputs": [
    {
     "data": {
      "text/plain": [
       "Qualification         object\n",
       "Experience            object\n",
       "Rating                object\n",
       "Place                 object\n",
       "Profile               object\n",
       "Miscellaneous_Info    object\n",
       "Fees                   int64\n",
       "dtype: object"
      ]
     },
     "execution_count": 285,
     "metadata": {},
     "output_type": "execute_result"
    }
   ],
   "source": [
    "# check for the datatypes\n",
    "df_train.dtypes"
   ]
  },
  {
   "cell_type": "code",
   "execution_count": 286,
   "id": "d2f46abb",
   "metadata": {},
   "outputs": [
    {
     "data": {
      "text/plain": [
       "Qualification         object\n",
       "Experience            object\n",
       "Rating                object\n",
       "Place                 object\n",
       "Profile               object\n",
       "Miscellaneous_Info    object\n",
       "dtype: object"
      ]
     },
     "execution_count": 286,
     "metadata": {},
     "output_type": "execute_result"
    }
   ],
   "source": [
    "df_test.dtypes"
   ]
  },
  {
   "cell_type": "markdown",
   "id": "09c04c69",
   "metadata": {},
   "source": [
    "###### ''' As per above details '''\n",
    "* Train - we have all objects and one integer column\n",
    "* Test - we have all objects datatypes"
   ]
  },
  {
   "cell_type": "code",
   "execution_count": 287,
   "id": "0f2f4d32",
   "metadata": {},
   "outputs": [
    {
     "data": {
      "image/png": "[encoded data removed]",
      "text/plain": [
       "<Figure size 720x360 with 3 Axes>"
      ]
     },
     "metadata": {
      "needs_background": "light"
     },
     "output_type": "display_data"
    }
   ],
   "source": [
    "# Let's check for the missing values in both the datasets.\n",
    "msno.bar(df_train,color='tomato',figsize=(10,5),fontsize=10,sort='descending')\n",
    "plt.show()"
   ]
  },
  {
   "cell_type": "code",
   "execution_count": 288,
   "id": "82e17d3c",
   "metadata": {},
   "outputs": [
    {
     "data": {
      "text/plain": [
       "Rating                3302\n",
       "Miscellaneous_Info    2620\n",
       "Place                   25\n",
       "Qualification            0\n",
       "Experience               0\n",
       "Profile                  0\n",
       "Fees                     0\n",
       "dtype: int64"
      ]
     },
     "execution_count": 288,
     "metadata": {},
     "output_type": "execute_result"
    }
   ],
   "source": [
    "df_train.isnull().sum().sort_values(ascending=False)"
   ]
  },
  {
   "cell_type": "code",
   "execution_count": 289,
   "id": "25f8013d",
   "metadata": {},
   "outputs": [
    {
     "data": {
      "image/png": "[encoded data removed]",
      "text/plain": [
       "<Figure size 720x360 with 3 Axes>"
      ]
     },
     "metadata": {
      "needs_background": "light"
     },
     "output_type": "display_data"
    }
   ],
   "source": [
    "msno.bar(df_test,color='dodgerblue',figsize=(10,5),fontsize=10,sort='descending')\n",
    "plt.show()"
   ]
  },
  {
   "cell_type": "code",
   "execution_count": 290,
   "id": "83a91409",
   "metadata": {},
   "outputs": [
    {
     "data": {
      "text/plain": [
       "Rating                1090\n",
       "Miscellaneous_Info     834\n",
       "Place                    6\n",
       "Qualification            0\n",
       "Experience               0\n",
       "Profile                  0\n",
       "dtype: int64"
      ]
     },
     "execution_count": 290,
     "metadata": {},
     "output_type": "execute_result"
    }
   ],
   "source": [
    "df_test.isnull().sum().sort_values(ascending=False)"
   ]
  },
  {
   "cell_type": "markdown",
   "id": "7850456b",
   "metadata": {},
   "source": [
    "##### ''' As per above details '''\n",
    "* Train - we have missing values in Rating, Miscellaneous_Info, Place columns\n",
    "* Test - we have missing values in Rating, Miscellaneous_Info, Place columns"
   ]
  },
  {
   "cell_type": "markdown",
   "id": "0e4f0834",
   "metadata": {},
   "source": [
    "Let's start from the simplest taks i.e. Experience columns which needs to be seperated string values"
   ]
  },
  {
   "cell_type": "code",
   "execution_count": 291,
   "id": "b4292b8f",
   "metadata": {},
   "outputs": [],
   "source": [
    "# Train set\n",
    "df_train['Experience'] = df_train['Experience'].str.split()\n",
    "df_train['Experience'] = df_train['Experience'].str[0].astype('int')"
   ]
  },
  {
   "cell_type": "code",
   "execution_count": 292,
   "id": "9c153baa",
   "metadata": {},
   "outputs": [],
   "source": [
    "# Test set\n",
    "df_test['Experience'] = df_test['Experience'].str.split()\n",
    "df_test['Experience'] = df_test['Experience'].str[0].astype('int')"
   ]
  },
  {
   "cell_type": "code",
   "execution_count": 293,
   "id": "2c41016d",
   "metadata": {},
   "outputs": [],
   "source": [
    "''' Now let's handle the Place variable by seperating the city and place '''\n",
    "# first fill all the missing values as Uknown.\n",
    "df_train['Place'].fillna(\"Unknown,Unknown\",inplace=True)\n",
    "# Now split the place and City values\n",
    "df_train['Place'] = df_train['Place'].str.split(\",\")\n",
    "df_train['City'] = df_train['Place'].str[-1]\n",
    "df_train['Place'] = df_train['Place'].str[0]"
   ]
  },
  {
   "cell_type": "code",
   "execution_count": 294,
   "id": "dbc4b64f",
   "metadata": {},
   "outputs": [],
   "source": [
    "''' Now let's handle the Place variable by seperating the city and place '''\n",
    "# first fill all the missing values as Uknown.\n",
    "df_test['Place'].fillna(\"Unknown,Unknown\",inplace=True)\n",
    "# Now split the place and City values\n",
    "df_test['Place'] = df_test['Place'].str.split(\",\")\n",
    "df_test['City'] = df_test['Place'].str[-1]\n",
    "df_test['Place'] = df_test['Place'].str[0]"
   ]
  },
  {
   "cell_type": "markdown",
   "id": "a8586ae4",
   "metadata": {},
   "source": [
    "''' Now we are moving to clean rest of the features '''"
   ]
  },
  {
   "cell_type": "code",
   "execution_count": 295,
   "id": "b3e18d1f",
   "metadata": {},
   "outputs": [],
   "source": [
    "# first let clean the Ratings columns as its not in standard format\n",
    "df_train['Rating'].fillna(\"-99%\",inplace=True)"
   ]
  },
  {
   "cell_type": "code",
   "execution_count": 296,
   "id": "f3053ff3",
   "metadata": {},
   "outputs": [],
   "source": [
    "df_train['Rating'] = df_train['Rating'].str[:-1].astype('int')"
   ]
  },
  {
   "cell_type": "code",
   "execution_count": 297,
   "id": "08f3ad18",
   "metadata": {},
   "outputs": [],
   "source": [
    "bins = [-99,0,10,20,30,40,50,60,70,80,90,100]\n",
    "labels = [i for i in range(11)]\n",
    "df_train['Rating'] = pd.cut(df_train['Rating'],bins=bins,labels=labels,include_lowest=True)"
   ]
  },
  {
   "cell_type": "code",
   "execution_count": 298,
   "id": "25e5155d",
   "metadata": {},
   "outputs": [],
   "source": [
    "# first let clean the Ratings columns as its not in standard format\n",
    "df_test['Rating'].fillna(\"-99%\",inplace=True)\n",
    "df_test['Rating'] = df_test['Rating'].str[:-1].astype('int')"
   ]
  },
  {
   "cell_type": "code",
   "execution_count": 299,
   "id": "3d6949a1",
   "metadata": {},
   "outputs": [],
   "source": [
    "bins = [-99,0,10,20,30,40,50,60,70,80,90,100]\n",
    "labels = [i for i in range(11)]\n",
    "df_test['Rating'] = pd.cut(df_test['Rating'],bins=bins,labels=labels,include_lowest=True)"
   ]
  },
  {
   "cell_type": "markdown",
   "id": "18cac1fa",
   "metadata": {},
   "source": [
    "''' Here I have tried to replace the mean value to rating column, but the output was not logically correct. So, its better group it in order to analyse the data accurately'\n",
    "* Have grouped them into bins of size10. Missing values will be 0, 0-9% will be 1, 10-19% will be class2 and so on''"
   ]
  },
  {
   "cell_type": "markdown",
   "id": "c25e9722",
   "metadata": {},
   "source": [
    "##### Feature Engineering for Qualification attribute"
   ]
  },
  {
   "cell_type": "code",
   "execution_count": 300,
   "id": "d6ce8c2f",
   "metadata": {},
   "outputs": [
    {
     "data": {
      "text/html": [
       "<div>\n",
       "<style scoped>\n",
       "    .dataframe tbody tr th:only-of-type {\n",
       "        vertical-align: middle;\n",
       "    }\n",
       "\n",
       "    .dataframe tbody tr th {\n",
       "        vertical-align: top;\n",
       "    }\n",
       "\n",
       "    .dataframe thead th {\n",
       "        text-align: right;\n",
       "    }\n",
       "</style>\n",
       "<table border=\"1\" class=\"dataframe\">\n",
       "  <thead>\n",
       "    <tr style=\"text-align: right;\">\n",
       "      <th></th>\n",
       "      <th>Qualification</th>\n",
       "      <th>Experience</th>\n",
       "      <th>Rating</th>\n",
       "      <th>Place</th>\n",
       "      <th>Profile</th>\n",
       "      <th>Miscellaneous_Info</th>\n",
       "      <th>Fees</th>\n",
       "      <th>City</th>\n",
       "    </tr>\n",
       "  </thead>\n",
       "  <tbody>\n",
       "    <tr>\n",
       "      <th>0</th>\n",
       "      <td>BHMS, MD - Homeopathy</td>\n",
       "      <td>24</td>\n",
       "      <td>10</td>\n",
       "      <td>Kakkanad</td>\n",
       "      <td>Homeopath</td>\n",
       "      <td>100% 16 Feedback Kakkanad, Ernakulam</td>\n",
       "      <td>100</td>\n",
       "      <td>Ernakulam</td>\n",
       "    </tr>\n",
       "    <tr>\n",
       "      <th>1</th>\n",
       "      <td>BAMS, MD - Ayurveda Medicine</td>\n",
       "      <td>12</td>\n",
       "      <td>10</td>\n",
       "      <td>Whitefield</td>\n",
       "      <td>Ayurveda</td>\n",
       "      <td>98% 76 Feedback Whitefield, Bangalore</td>\n",
       "      <td>350</td>\n",
       "      <td>Bangalore</td>\n",
       "    </tr>\n",
       "    <tr>\n",
       "      <th>2</th>\n",
       "      <td>MBBS, MS - Otorhinolaryngology</td>\n",
       "      <td>9</td>\n",
       "      <td>0</td>\n",
       "      <td>Mathikere - BEL</td>\n",
       "      <td>ENT Specialist</td>\n",
       "      <td>NaN</td>\n",
       "      <td>300</td>\n",
       "      <td>Bangalore</td>\n",
       "    </tr>\n",
       "    <tr>\n",
       "      <th>3</th>\n",
       "      <td>BSc - Zoology, BAMS</td>\n",
       "      <td>12</td>\n",
       "      <td>0</td>\n",
       "      <td>Bannerghatta Road</td>\n",
       "      <td>Ayurveda</td>\n",
       "      <td>Bannerghatta Road, Bangalore ?250 Available on...</td>\n",
       "      <td>250</td>\n",
       "      <td>Bangalore</td>\n",
       "    </tr>\n",
       "    <tr>\n",
       "      <th>4</th>\n",
       "      <td>BAMS</td>\n",
       "      <td>20</td>\n",
       "      <td>10</td>\n",
       "      <td>Keelkattalai</td>\n",
       "      <td>Ayurveda</td>\n",
       "      <td>100% 4 Feedback Keelkattalai, Chennai</td>\n",
       "      <td>250</td>\n",
       "      <td>Chennai</td>\n",
       "    </tr>\n",
       "  </tbody>\n",
       "</table>\n",
       "</div>"
      ],
      "text/plain": [
       "                    Qualification  Experience Rating              Place  \\\n",
       "0           BHMS, MD - Homeopathy          24     10           Kakkanad   \n",
       "1    BAMS, MD - Ayurveda Medicine          12     10         Whitefield   \n",
       "2  MBBS, MS - Otorhinolaryngology           9      0    Mathikere - BEL   \n",
       "3             BSc - Zoology, BAMS          12      0  Bannerghatta Road   \n",
       "4                            BAMS          20     10       Keelkattalai   \n",
       "\n",
       "          Profile                                 Miscellaneous_Info  Fees  \\\n",
       "0       Homeopath               100% 16 Feedback Kakkanad, Ernakulam   100   \n",
       "1        Ayurveda              98% 76 Feedback Whitefield, Bangalore   350   \n",
       "2  ENT Specialist                                                NaN   300   \n",
       "3        Ayurveda  Bannerghatta Road, Bangalore ?250 Available on...   250   \n",
       "4        Ayurveda              100% 4 Feedback Keelkattalai, Chennai   250   \n",
       "\n",
       "         City  \n",
       "0   Ernakulam  \n",
       "1   Bangalore  \n",
       "2   Bangalore  \n",
       "3   Bangalore  \n",
       "4     Chennai  "
      ]
     },
     "execution_count": 300,
     "metadata": {},
     "output_type": "execute_result"
    }
   ],
   "source": [
    "df_train.head()"
   ]
  },
  {
   "cell_type": "code",
   "execution_count": 301,
   "id": "e6d1daa8",
   "metadata": {},
   "outputs": [
    {
     "data": {
      "text/plain": [
       " Bangalore             1258\n",
       " Mumbai                1219\n",
       " Delhi                 1185\n",
       " Hyderabad              951\n",
       " Chennai                855\n",
       " Coimbatore             228\n",
       " Ernakulam              153\n",
       " Thiruvananthapuram      86\n",
       "Unknown                  25\n",
       "e                         1\n",
       "Name: City, dtype: int64"
      ]
     },
     "execution_count": 301,
     "metadata": {},
     "output_type": "execute_result"
    }
   ],
   "source": [
    "df_train['City'].value_counts()"
   ]
  },
  {
   "cell_type": "markdown",
   "id": "de8f45af",
   "metadata": {},
   "source": [
    "there is an error as e in row 3980 in train dataset which we replace with value 'unknown'"
   ]
  },
  {
   "cell_type": "code",
   "execution_count": 302,
   "id": "61e5bfd5",
   "metadata": {},
   "outputs": [],
   "source": [
    "df_train['City'][3980] = \"Unknown\"\n",
    "df_train['Place'][3980]= \"Unknown\""
   ]
  },
  {
   "cell_type": "code",
   "execution_count": 303,
   "id": "b1205245",
   "metadata": {},
   "outputs": [
    {
     "data": {
      "text/html": [
       "<div>\n",
       "<style scoped>\n",
       "    .dataframe tbody tr th:only-of-type {\n",
       "        vertical-align: middle;\n",
       "    }\n",
       "\n",
       "    .dataframe tbody tr th {\n",
       "        vertical-align: top;\n",
       "    }\n",
       "\n",
       "    .dataframe thead th {\n",
       "        text-align: right;\n",
       "    }\n",
       "</style>\n",
       "<table border=\"1\" class=\"dataframe\">\n",
       "  <thead>\n",
       "    <tr style=\"text-align: right;\">\n",
       "      <th></th>\n",
       "      <th>Qualification</th>\n",
       "      <th>Experience</th>\n",
       "      <th>Rating</th>\n",
       "      <th>Place</th>\n",
       "      <th>Profile</th>\n",
       "      <th>Miscellaneous_Info</th>\n",
       "      <th>Fees</th>\n",
       "      <th>City</th>\n",
       "    </tr>\n",
       "  </thead>\n",
       "  <tbody>\n",
       "    <tr>\n",
       "      <th>0</th>\n",
       "      <td>BHMS, MD - Homeopathy</td>\n",
       "      <td>24</td>\n",
       "      <td>10</td>\n",
       "      <td>Kakkanad</td>\n",
       "      <td>Homeopath</td>\n",
       "      <td>100% 16 Feedback Kakkanad, Ernakulam</td>\n",
       "      <td>100</td>\n",
       "      <td>Ernakulam</td>\n",
       "    </tr>\n",
       "    <tr>\n",
       "      <th>1</th>\n",
       "      <td>BAMS, MD - Ayurveda Medicine</td>\n",
       "      <td>12</td>\n",
       "      <td>10</td>\n",
       "      <td>Whitefield</td>\n",
       "      <td>Ayurveda</td>\n",
       "      <td>98% 76 Feedback Whitefield, Bangalore</td>\n",
       "      <td>350</td>\n",
       "      <td>Bangalore</td>\n",
       "    </tr>\n",
       "    <tr>\n",
       "      <th>2</th>\n",
       "      <td>MBBS, MS - Otorhinolaryngology</td>\n",
       "      <td>9</td>\n",
       "      <td>0</td>\n",
       "      <td>Mathikere - BEL</td>\n",
       "      <td>ENT Specialist</td>\n",
       "      <td>NaN</td>\n",
       "      <td>300</td>\n",
       "      <td>Bangalore</td>\n",
       "    </tr>\n",
       "    <tr>\n",
       "      <th>3</th>\n",
       "      <td>BSc - Zoology, BAMS</td>\n",
       "      <td>12</td>\n",
       "      <td>0</td>\n",
       "      <td>Bannerghatta Road</td>\n",
       "      <td>Ayurveda</td>\n",
       "      <td>Bannerghatta Road, Bangalore ?250 Available on...</td>\n",
       "      <td>250</td>\n",
       "      <td>Bangalore</td>\n",
       "    </tr>\n",
       "    <tr>\n",
       "      <th>4</th>\n",
       "      <td>BAMS</td>\n",
       "      <td>20</td>\n",
       "      <td>10</td>\n",
       "      <td>Keelkattalai</td>\n",
       "      <td>Ayurveda</td>\n",
       "      <td>100% 4 Feedback Keelkattalai, Chennai</td>\n",
       "      <td>250</td>\n",
       "      <td>Chennai</td>\n",
       "    </tr>\n",
       "  </tbody>\n",
       "</table>\n",
       "</div>"
      ],
      "text/plain": [
       "                    Qualification  Experience Rating              Place  \\\n",
       "0           BHMS, MD - Homeopathy          24     10           Kakkanad   \n",
       "1    BAMS, MD - Ayurveda Medicine          12     10         Whitefield   \n",
       "2  MBBS, MS - Otorhinolaryngology           9      0    Mathikere - BEL   \n",
       "3             BSc - Zoology, BAMS          12      0  Bannerghatta Road   \n",
       "4                            BAMS          20     10       Keelkattalai   \n",
       "\n",
       "          Profile                                 Miscellaneous_Info  Fees  \\\n",
       "0       Homeopath               100% 16 Feedback Kakkanad, Ernakulam   100   \n",
       "1        Ayurveda              98% 76 Feedback Whitefield, Bangalore   350   \n",
       "2  ENT Specialist                                                NaN   300   \n",
       "3        Ayurveda  Bannerghatta Road, Bangalore ?250 Available on...   250   \n",
       "4        Ayurveda              100% 4 Feedback Keelkattalai, Chennai   250   \n",
       "\n",
       "         City  \n",
       "0   Ernakulam  \n",
       "1   Bangalore  \n",
       "2   Bangalore  \n",
       "3   Bangalore  \n",
       "4     Chennai  "
      ]
     },
     "execution_count": 303,
     "metadata": {},
     "output_type": "execute_result"
    }
   ],
   "source": [
    "df_train.head()"
   ]
  },
  {
   "cell_type": "markdown",
   "id": "665ca08f",
   "metadata": {},
   "source": [
    "*** I would like to drop the attribute Qualification and Miscellaneous_info as it too non standard to handle and clean"
   ]
  },
  {
   "cell_type": "code",
   "execution_count": 304,
   "id": "dff63486",
   "metadata": {},
   "outputs": [],
   "source": [
    "df_train.drop('Miscellaneous_Info',axis=1,inplace=True)\n",
    "df_test.drop('Miscellaneous_Info',axis=1,inplace=True)\n",
    "df_train.drop('Qualification',axis=1,inplace=True)\n",
    "df_test.drop('Qualification',axis=1,inplace=True)"
   ]
  },
  {
   "cell_type": "markdown",
   "id": "b5196ddd",
   "metadata": {},
   "source": [
    "### Visualization"
   ]
  },
  {
   "cell_type": "code",
   "execution_count": 305,
   "id": "d688af8a",
   "metadata": {},
   "outputs": [
    {
     "data": {
      "image/png": "[encoded data removed]",
      "text/plain": [
       "<Figure size 576x360 with 1 Axes>"
      ]
     },
     "metadata": {
      "needs_background": "light"
     },
     "output_type": "display_data"
    }
   ],
   "source": [
    "plt.figure(figsize=(8,5))\n",
    "sns.countplot(df_train['Profile'],palette='viridis',data=df_train)\n",
    "plt.show()"
   ]
  },
  {
   "cell_type": "markdown",
   "id": "bccb6a4e",
   "metadata": {},
   "source": [
    "As we can see that Dentist are more in numbers followed by General Medicines."
   ]
  },
  {
   "cell_type": "code",
   "execution_count": 306,
   "id": "75408080",
   "metadata": {},
   "outputs": [
    {
     "data": {
      "image/png": "[encoded data removed]",
      "text/plain": [
       "<Figure size 1080x576 with 1 Axes>"
      ]
     },
     "metadata": {
      "needs_background": "light"
     },
     "output_type": "display_data"
    }
   ],
   "source": [
    "plt.figure(figsize=(15,8))\n",
    "sns.countplot(df_train['Experience'],palette='viridis',data=df_train)\n",
    "plt.show()"
   ]
  },
  {
   "cell_type": "markdown",
   "id": "9a32ad74",
   "metadata": {},
   "source": [
    "As we can see that the more number of doctors fall under 5 to 22 years of Experience."
   ]
  },
  {
   "cell_type": "code",
   "execution_count": 307,
   "id": "b3441d94",
   "metadata": {},
   "outputs": [
    {
     "data": {
      "image/png": "[encoded data removed]",
      "text/plain": [
       "<Figure size 1080x576 with 1 Axes>"
      ]
     },
     "metadata": {
      "needs_background": "light"
     },
     "output_type": "display_data"
    }
   ],
   "source": [
    "plt.figure(figsize=(15,8))\n",
    "sns.countplot(df_train['Fees'],palette='viridis',data=df_train)\n",
    "plt.show()"
   ]
  },
  {
   "cell_type": "markdown",
   "id": "1f6029b4",
   "metadata": {},
   "source": [
    "Here, the details are nicesly spreaded and there is no specific pattern formed."
   ]
  },
  {
   "cell_type": "markdown",
   "id": "32bb06d3",
   "metadata": {},
   "source": [
    "#### Histogram\n"
   ]
  },
  {
   "cell_type": "code",
   "execution_count": 308,
   "id": "bcbc39d3",
   "metadata": {},
   "outputs": [
    {
     "data": {
      "image/png": "[encoded data removed]",
      "text/plain": [
       "<Figure size 864x864 with 12 Axes>"
      ]
     },
     "metadata": {
      "needs_background": "light"
     },
     "output_type": "display_data"
    }
   ],
   "source": [
    "df_train.hist(figsize=(12,12),layout=(3,4),sharex=False);"
   ]
  },
  {
   "cell_type": "markdown",
   "id": "2984324e",
   "metadata": {},
   "source": [
    "As shown above, both datasets are not too skewed."
   ]
  },
  {
   "cell_type": "code",
   "execution_count": 309,
   "id": "881e0ea0",
   "metadata": {},
   "outputs": [
    {
     "data": {
      "image/png": "[encoded data removed]",
      "text/plain": [
       "<Figure size 864x864 with 12 Axes>"
      ]
     },
     "metadata": {
      "needs_background": "light"
     },
     "output_type": "display_data"
    }
   ],
   "source": [
    "df_train.plot(kind='box',figsize=(12,12),layout=(4,3),sharex=False,subplots=True)\n",
    "plt.show()"
   ]
  },
  {
   "cell_type": "code",
   "execution_count": 310,
   "id": "57cdcaa0",
   "metadata": {},
   "outputs": [],
   "source": [
    "#enc = LabelEncoder()\n",
    "#df_train = df_train.apply(enc.fit_transform)\n",
    "#df_train.head()"
   ]
  },
  {
   "cell_type": "markdown",
   "id": "5d3f360c",
   "metadata": {},
   "source": [
    "#### Encoding categorical Variables and scale its features."
   ]
  },
  {
   "cell_type": "code",
   "execution_count": 316,
   "id": "65de5439",
   "metadata": {},
   "outputs": [],
   "source": [
    "x = df_train.drop(\"Fees\",axis=1)\n",
    "y = df_train['Fees']"
   ]
  },
  {
   "cell_type": "code",
   "execution_count": 320,
   "id": "79083fa7",
   "metadata": {},
   "outputs": [],
   "source": [
    "# Encoding\n",
    "from sklearn.preprocessing import OrdinalEncoder, StandardScaler\n",
    "enc = OrdinalEncoder()\n",
    "x = pd.DataFrame(enc.fit_transform(x),columns=x.columns)"
   ]
  },
  {
   "cell_type": "code",
   "execution_count": 324,
   "id": "2fe628e9",
   "metadata": {},
   "outputs": [],
   "source": [
    "from sklearn.model_selection import train_test_split\n",
    "x_train,x_test,y_train,y_test = train_test_split(x,y,test_size=0.3)"
   ]
  },
  {
   "cell_type": "code",
   "execution_count": 325,
   "id": "4fccc1e6",
   "metadata": {},
   "outputs": [],
   "source": [
    "#feature scaling\n",
    "scaler = StandardScaler()\n",
    "x_train = scaler.fit_transform(x_train)"
   ]
  },
  {
   "cell_type": "markdown",
   "id": "e3268ffe",
   "metadata": {},
   "source": [
    "### Implementing SVR modeling"
   ]
  },
  {
   "cell_type": "code",
   "execution_count": 327,
   "id": "e2f5c7cd",
   "metadata": {},
   "outputs": [
    {
     "data": {
      "text/plain": [
       "SVR()"
      ]
     },
     "execution_count": 327,
     "metadata": {},
     "output_type": "execute_result"
    }
   ],
   "source": [
    "from sklearn.svm import SVR\n",
    "m = SVR(gamma='scale')\n",
    "m.fit(scaler.transform(x_train),y_train)"
   ]
  },
  {
   "cell_type": "code",
   "execution_count": 328,
   "id": "a1c9dc25",
   "metadata": {},
   "outputs": [
    {
     "data": {
      "text/plain": [
       "0.7629328919156109"
      ]
     },
     "execution_count": 328,
     "metadata": {},
     "output_type": "execute_result"
    }
   ],
   "source": [
    "def score(y_pred,y):\n",
    "    y_pred = np.log(y_pred)\n",
    "    y = np.log(y)\n",
    "    return 1 - ((np.sum((y_pred-y)**2))/len(y))**1/2\n",
    "\n",
    "# prediction\n",
    "y_pred = m.predict(scaler.transform(x_test))\n",
    "score(y_pred,y_test)"
   ]
  },
  {
   "cell_type": "markdown",
   "id": "6989a34f",
   "metadata": {},
   "source": [
    "As above, we have received 76.29% accuracy which could be increased during Hyperparameter tuning."
   ]
  },
  {
   "cell_type": "code",
   "execution_count": 331,
   "id": "30c4e0fa",
   "metadata": {},
   "outputs": [],
   "source": [
    "#Define own scorer\n",
    "from sklearn.metrics import make_scorer\n",
    "scorer = make_scorer(score,greater_is_better=True)\n",
    "\n",
    "# Hyperparameter Tunning\n",
    "parameters = {'C':[0.1,1,10],\"kernel\":['linear','rbf','poly']}\n",
    "reg = GridSearchCV(m,param_grid=parameters,scoring=scorer,n_jobs=-1,cv=5)"
   ]
  },
  {
   "cell_type": "code",
   "execution_count": 332,
   "id": "390c1c11",
   "metadata": {},
   "outputs": [
    {
     "data": {
      "text/plain": [
       "GridSearchCV(cv=5, estimator=SVR(), n_jobs=-1,\n",
       "             param_grid={'C': [0.1, 1, 10],\n",
       "                         'kernel': ['linear', 'rbf', 'poly']},\n",
       "             scoring=make_scorer(score))"
      ]
     },
     "execution_count": 332,
     "metadata": {},
     "output_type": "execute_result"
    }
   ],
   "source": [
    "reg.fit(x_train,y_train)"
   ]
  },
  {
   "cell_type": "code",
   "execution_count": 333,
   "id": "47eaf264",
   "metadata": {},
   "outputs": [
    {
     "data": {
      "text/plain": [
       "{'C': 10, 'kernel': 'rbf'}"
      ]
     },
     "execution_count": 333,
     "metadata": {},
     "output_type": "execute_result"
    }
   ],
   "source": [
    "reg.best_params_"
   ]
  },
  {
   "cell_type": "code",
   "execution_count": 335,
   "id": "07dc4e06",
   "metadata": {},
   "outputs": [
    {
     "data": {
      "text/plain": [
       "0.7933265537286565"
      ]
     },
     "execution_count": 335,
     "metadata": {},
     "output_type": "execute_result"
    }
   ],
   "source": [
    "#Final\n",
    "y_pred_tuned = reg.predict(scaler.transform(x_test))\n",
    "score(y_pred_tuned,y_test)"
   ]
  },
  {
   "cell_type": "markdown",
   "id": "49102ee8",
   "metadata": {},
   "source": [
    "Post Tunning we have reach to 79% accuracy"
   ]
  },
  {
   "cell_type": "markdown",
   "id": "53b4c2d9",
   "metadata": {},
   "source": [
    "## saving the Model"
   ]
  },
  {
   "cell_type": "code",
   "execution_count": 339,
   "id": "f526c6cf",
   "metadata": {},
   "outputs": [],
   "source": [
    "import pickle\n",
    "filename = 'Doctor Fee Prediction.pkl'\n",
    "pickle.dump(reg,open(filename,'wb'))"
   ]
  },
  {
   "cell_type": "code",
   "execution_count": 340,
   "id": "9f08b537",
   "metadata": {},
   "outputs": [
    {
     "data": {
      "text/plain": [
       "0.7370497984506296"
      ]
     },
     "execution_count": 340,
     "metadata": {},
     "output_type": "execute_result"
    }
   ],
   "source": [
    "load_model = pickle.load(open('Doctor Fee Prediction.pkl','rb'))\n",
    "result = load_model.score(x_test,y_test)\n",
    "result"
   ]
  },
  {
   "cell_type": "markdown",
   "id": "e7e3cafc",
   "metadata": {},
   "source": [
    "While testing we are getting 74 % accuracy"
   ]
  },
  {
   "cell_type": "code",
   "execution_count": null,
   "id": "879ae64a",
   "metadata": {},
   "outputs": [],
   "source": []
  }
 ],
 "metadata": {
  "kernelspec": {
   "display_name": "Python 3",
   "language": "python",
   "name": "python3"
  },
  "language_info": {
   "codemirror_mode": {
    "name": "ipython",
    "version": 3
   },
   "file_extension": ".py",
   "mimetype": "text/x-python",
   "name": "python",
   "nbconvert_exporter": "python",
   "pygments_lexer": "ipython3",
   "version": "3.7.10"
  }
 },
 "nbformat": 4,
 "nbformat_minor": 5
}
